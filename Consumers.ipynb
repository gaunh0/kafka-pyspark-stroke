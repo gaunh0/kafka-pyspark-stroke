{
 "cells": [
  {
   "cell_type": "code",
   "execution_count": 2,
   "metadata": {},
   "outputs": [
    {
     "name": "stderr",
     "output_type": "stream",
     "text": [
      "Exception ignored in: <function ConsumerCoordinator.__del__ at 0x7f964c2f4400>\n",
      "Traceback (most recent call last):\n",
      "  File \"/home/gaunh0/.miniconda3/lib/python3.11/site-packages/kafka/coordinator/consumer.py\", line 132, in __del__\n",
      "    super(ConsumerCoordinator, self).__del__()\n",
      "  File \"/home/gaunh0/.miniconda3/lib/python3.11/site-packages/kafka/coordinator/base.py\", line 756, in __del__\n",
      "    self._close_heartbeat_thread()\n",
      "  File \"/home/gaunh0/.miniconda3/lib/python3.11/site-packages/kafka/coordinator/base.py\", line 750, in _close_heartbeat_thread\n",
      "    self._heartbeat_thread.close()\n",
      "  File \"/home/gaunh0/.miniconda3/lib/python3.11/site-packages/kafka/coordinator/base.py\", line 927, in close\n",
      "    self.join(self.coordinator.config['heartbeat_interval_ms'] / 1000)\n",
      "  File \"/home/gaunh0/.miniconda3/lib/python3.11/threading.py\", line 1109, in join\n",
      "    raise RuntimeError(\"cannot join current thread\")\n",
      "RuntimeError: cannot join current thread\n"
     ]
    },
    {
     "name": "stdout",
     "output_type": "stream",
     "text": [
      "{'number': 0} \n",
      "{'number': 1} \n",
      "{'number': 2} \n",
      "{'number': 3} \n",
      "{'number': 4} \n",
      "{'number': 5} \n",
      "{'number': 6} \n",
      "{'number': 7} \n",
      "{'number': 8} \n",
      "{'number': 9} \n",
      "{'number': 10} \n",
      "{'number': 11} \n",
      "{'number': 12} \n",
      "{'number': 13} \n"
     ]
    }
   ],
   "source": [
    "from kafka import KafkaConsumer\n",
    "from json import loads\n",
    "\n",
    "\n",
    "topic_name = 'RandomNumber'\n",
    "\n",
    "consumer = KafkaConsumer(\n",
    "    topic_name,\n",
    "    bootstrap_servers=['localhost:29092'],\n",
    "    enable_auto_commit=True,\n",
    "    auto_offset_reset = 'earliest',\n",
    "    group_id='my-group',\n",
    "    value_deserializer = lambda x:loads(x.decode('utf-8'))\n",
    ")\n",
    "\n",
    "for message in consumer:\n",
    "    message = message.value\n",
    "    print('{} '.format(message))\n"
   ]
  },
  {
   "cell_type": "code",
   "execution_count": null,
   "metadata": {},
   "outputs": [],
   "source": []
  }
 ],
 "metadata": {
  "kernelspec": {
   "display_name": "Python 3",
   "language": "python",
   "name": "python3"
  },
  "language_info": {
   "codemirror_mode": {
    "name": "ipython",
    "version": 3
   },
   "file_extension": ".py",
   "mimetype": "text/x-python",
   "name": "python",
   "nbconvert_exporter": "python",
   "pygments_lexer": "ipython3",
   "version": "3.11.4"
  }
 },
 "nbformat": 4,
 "nbformat_minor": 4
}
