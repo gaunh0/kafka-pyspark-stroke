{
 "cells": [
  {
   "cell_type": "code",
   "execution_count": 17,
   "metadata": {},
   "outputs": [
    {
     "data": {
      "text/plain": [
       "DeleteTopicsResponse_v3(throttle_time_ms=0, topic_error_codes=[(topic='SendResult', error_code=0)])"
      ]
     },
     "execution_count": 17,
     "metadata": {},
     "output_type": "execute_result"
    }
   ],
   "source": [
    "from kafka import KafkaAdminClient\n",
    "\n",
    "admin_client = KafkaAdminClient(bootstrap_servers='localhost:29092') \n",
    "\n",
    "# topic_to_clear = 'RandomNumber'\n",
    "topic_to_clear = 'SendResult'\n",
    "\n",
    "# Delete the topic \n",
    "admin_client.delete_topics(topics=[topic_to_clear])\n"
   ]
  },
  {
   "cell_type": "code",
   "execution_count": 14,
   "metadata": {},
   "outputs": [
    {
     "name": "stdout",
     "output_type": "stream",
     "text": [
      "['SendResult', 'SendChart', 'RandomNumber', '__consumer_offsets']\n"
     ]
    }
   ],
   "source": [
    "print(admin_client.list_topics())\n"
   ]
  }
 ],
 "metadata": {
  "kernelspec": {
   "display_name": "base",
   "language": "python",
   "name": "python3"
  },
  "language_info": {
   "codemirror_mode": {
    "name": "ipython",
    "version": 3
   },
   "file_extension": ".py",
   "mimetype": "text/x-python",
   "name": "python",
   "nbconvert_exporter": "python",
   "pygments_lexer": "ipython3",
   "version": "3.11.4"
  },
  "orig_nbformat": 4
 },
 "nbformat": 4,
 "nbformat_minor": 2
}
